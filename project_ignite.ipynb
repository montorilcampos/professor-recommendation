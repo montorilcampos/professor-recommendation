{
  "nbformat": 4,
  "nbformat_minor": 0,
  "metadata": {
    "colab": {
      "provenance": [],
      "collapsed_sections": [
        "QFhRsREgnwop",
        "ZkI1U3Ky6lCA",
        "uVfIFHovduso",
        "89Dig-PE_iaK",
        "6JOEv1u0ee4z"
      ]
    },
    "kernelspec": {
      "name": "python3",
      "display_name": "Python 3"
    },
    "language_info": {
      "name": "python"
    }
  },
  "cells": [
    {
      "cell_type": "markdown",
      "source": [
        "# Rating Professors"
      ],
      "metadata": {
        "id": "DstTYqrTHsV7"
      }
    },
    {
      "cell_type": "markdown",
      "source": [
        "This project uses the Kaggle dataset \"Rate My Professor Reviews 5C Colleges\" ([found here](https://www.kaggle.com/datasets/tilorc/rate-my-professor-reviews-5c-colleges)) to find the overall best professor for a certain course based on various categories. Additionally, it also uses Term Frequency-Inverse Document Frequency (TF-IDF) to extract the most important keywords from the text reviews."
      ],
      "metadata": {
        "id": "4upBUQTHYLqQ"
      }
    },
    {
      "cell_type": "markdown",
      "source": [
        "### Data Preprocessing"
      ],
      "metadata": {
        "id": "QFhRsREgnwop"
      }
    },
    {
      "cell_type": "markdown",
      "source": [
        "Currently in our dataset, each column is filled with string representations of dictionaries, which is not an ideal format for data analysis or machine learning. We need to preprocess this data into a structured form where each column represents a feature of the data, such as course_id, Quality, Difficulty, etc."
      ],
      "metadata": {
        "id": "1mnFgTl41BD4"
      }
    },
    {
      "cell_type": "code",
      "execution_count": 133,
      "metadata": {
        "id": "SLRF2anwjqLp"
      },
      "outputs": [],
      "source": [
        "import pandas as pd\n",
        "import json"
      ]
    },
    {
      "cell_type": "code",
      "source": [
        "# Load the JSON data\n",
        "with open('/content/all_reviews.json') as file:\n",
        "    data = json.load(file)"
      ],
      "metadata": {
        "id": "kje9iyZfn0fR"
      },
      "execution_count": 134,
      "outputs": []
    },
    {
      "cell_type": "code",
      "source": [
        "# Flatten the data into a list of dictionaries, each representing a single review\n",
        "flat_data = [review for sublist in data for review in sublist]"
      ],
      "metadata": {
        "id": "JuAx0MbG0S7c"
      },
      "execution_count": 135,
      "outputs": []
    },
    {
      "cell_type": "code",
      "source": [
        "# Convert the list of dictionaries into a DataFrame\n",
        "reviews_df = pd.DataFrame(flat_data)"
      ],
      "metadata": {
        "id": "s7UWxkwg0SUo"
      },
      "execution_count": 136,
      "outputs": []
    },
    {
      "cell_type": "code",
      "source": [
        "# Print the names of the columns\n",
        "print(reviews_df.columns)"
      ],
      "metadata": {
        "colab": {
          "base_uri": "https://localhost:8080/"
        },
        "id": "e_8XzJ250R_0",
        "outputId": "0b99fbb7-2ea2-403f-d5ea-2580be15f1be"
      },
      "execution_count": 137,
      "outputs": [
        {
          "output_type": "stream",
          "name": "stdout",
          "text": [
            "Index(['course_id', 'Quality', 'Difficulty', 'For Credit', 'Would Take Again',\n",
            "       'Grade', 'Textbook', 'Comment', 'professor', 'department', 'Attendance',\n",
            "       'Online Class'],\n",
            "      dtype='object')\n"
          ]
        }
      ]
    },
    {
      "cell_type": "code",
      "source": [
        "# Display the first few rows of the DataFrame to verify its structure\n",
        "reviews_df.head()"
      ],
      "metadata": {
        "colab": {
          "base_uri": "https://localhost:8080/",
          "height": 310
        },
        "id": "RahscCQDvAc5",
        "outputId": "99a085ba-729d-4aaf-e937-533651f5664d"
      },
      "execution_count": 138,
      "outputs": [
        {
          "output_type": "execute_result",
          "data": {
            "text/plain": [
              "        course_id Quality Difficulty For Credit Would Take Again Grade  \\\n",
              "0          FHS010     5.0        2.0        Yes              Yes     A   \n",
              "1          FHS010     3.0        1.0        Yes               No   NaN   \n",
              "2   POLPHILOSOPHY     4.0        1.0        Yes              NaN   NaN   \n",
              "3          FHS010     5.0        2.0        NaN              NaN   NaN   \n",
              "4           FHS10     5.0        1.0        NaN              NaN   NaN   \n",
              "\n",
              "  Textbook                                            Comment       professor  \\\n",
              "0       No  Professor Nichols is super nice and very whole...  James Nichols    \n",
              "1       No  Very chill class and teacher, very easy grader...  James Nichols    \n",
              "2      Yes  Awesome, easy, knows literally everything abou...  James Nichols    \n",
              "3      Yes  Prof. Nichols is a super nice and encouraging ...  James Nichols    \n",
              "4      Yes  Good Professor. Really nice and encouraging te...  James Nichols    \n",
              "\n",
              "              department Attendance Online Class  \n",
              "0  Government department        NaN          NaN  \n",
              "1  Government department  Mandatory          NaN  \n",
              "2  Government department        NaN          NaN  \n",
              "3  Government department        NaN          NaN  \n",
              "4  Government department        NaN          NaN  "
            ],
            "text/html": [
              "\n",
              "  <div id=\"df-f292c240-4394-4cf9-89b6-6883ed0b6f8a\" class=\"colab-df-container\">\n",
              "    <div>\n",
              "<style scoped>\n",
              "    .dataframe tbody tr th:only-of-type {\n",
              "        vertical-align: middle;\n",
              "    }\n",
              "\n",
              "    .dataframe tbody tr th {\n",
              "        vertical-align: top;\n",
              "    }\n",
              "\n",
              "    .dataframe thead th {\n",
              "        text-align: right;\n",
              "    }\n",
              "</style>\n",
              "<table border=\"1\" class=\"dataframe\">\n",
              "  <thead>\n",
              "    <tr style=\"text-align: right;\">\n",
              "      <th></th>\n",
              "      <th>course_id</th>\n",
              "      <th>Quality</th>\n",
              "      <th>Difficulty</th>\n",
              "      <th>For Credit</th>\n",
              "      <th>Would Take Again</th>\n",
              "      <th>Grade</th>\n",
              "      <th>Textbook</th>\n",
              "      <th>Comment</th>\n",
              "      <th>professor</th>\n",
              "      <th>department</th>\n",
              "      <th>Attendance</th>\n",
              "      <th>Online Class</th>\n",
              "    </tr>\n",
              "  </thead>\n",
              "  <tbody>\n",
              "    <tr>\n",
              "      <th>0</th>\n",
              "      <td>FHS010</td>\n",
              "      <td>5.0</td>\n",
              "      <td>2.0</td>\n",
              "      <td>Yes</td>\n",
              "      <td>Yes</td>\n",
              "      <td>A</td>\n",
              "      <td>No</td>\n",
              "      <td>Professor Nichols is super nice and very whole...</td>\n",
              "      <td>James Nichols</td>\n",
              "      <td>Government department</td>\n",
              "      <td>NaN</td>\n",
              "      <td>NaN</td>\n",
              "    </tr>\n",
              "    <tr>\n",
              "      <th>1</th>\n",
              "      <td>FHS010</td>\n",
              "      <td>3.0</td>\n",
              "      <td>1.0</td>\n",
              "      <td>Yes</td>\n",
              "      <td>No</td>\n",
              "      <td>NaN</td>\n",
              "      <td>No</td>\n",
              "      <td>Very chill class and teacher, very easy grader...</td>\n",
              "      <td>James Nichols</td>\n",
              "      <td>Government department</td>\n",
              "      <td>Mandatory</td>\n",
              "      <td>NaN</td>\n",
              "    </tr>\n",
              "    <tr>\n",
              "      <th>2</th>\n",
              "      <td>POLPHILOSOPHY</td>\n",
              "      <td>4.0</td>\n",
              "      <td>1.0</td>\n",
              "      <td>Yes</td>\n",
              "      <td>NaN</td>\n",
              "      <td>NaN</td>\n",
              "      <td>Yes</td>\n",
              "      <td>Awesome, easy, knows literally everything abou...</td>\n",
              "      <td>James Nichols</td>\n",
              "      <td>Government department</td>\n",
              "      <td>NaN</td>\n",
              "      <td>NaN</td>\n",
              "    </tr>\n",
              "    <tr>\n",
              "      <th>3</th>\n",
              "      <td>FHS010</td>\n",
              "      <td>5.0</td>\n",
              "      <td>2.0</td>\n",
              "      <td>NaN</td>\n",
              "      <td>NaN</td>\n",
              "      <td>NaN</td>\n",
              "      <td>Yes</td>\n",
              "      <td>Prof. Nichols is a super nice and encouraging ...</td>\n",
              "      <td>James Nichols</td>\n",
              "      <td>Government department</td>\n",
              "      <td>NaN</td>\n",
              "      <td>NaN</td>\n",
              "    </tr>\n",
              "    <tr>\n",
              "      <th>4</th>\n",
              "      <td>FHS10</td>\n",
              "      <td>5.0</td>\n",
              "      <td>1.0</td>\n",
              "      <td>NaN</td>\n",
              "      <td>NaN</td>\n",
              "      <td>NaN</td>\n",
              "      <td>Yes</td>\n",
              "      <td>Good Professor. Really nice and encouraging te...</td>\n",
              "      <td>James Nichols</td>\n",
              "      <td>Government department</td>\n",
              "      <td>NaN</td>\n",
              "      <td>NaN</td>\n",
              "    </tr>\n",
              "  </tbody>\n",
              "</table>\n",
              "</div>\n",
              "    <div class=\"colab-df-buttons\">\n",
              "\n",
              "  <div class=\"colab-df-container\">\n",
              "    <button class=\"colab-df-convert\" onclick=\"convertToInteractive('df-f292c240-4394-4cf9-89b6-6883ed0b6f8a')\"\n",
              "            title=\"Convert this dataframe to an interactive table.\"\n",
              "            style=\"display:none;\">\n",
              "\n",
              "  <svg xmlns=\"http://www.w3.org/2000/svg\" height=\"24px\" viewBox=\"0 -960 960 960\">\n",
              "    <path d=\"M120-120v-720h720v720H120Zm60-500h600v-160H180v160Zm220 220h160v-160H400v160Zm0 220h160v-160H400v160ZM180-400h160v-160H180v160Zm440 0h160v-160H620v160ZM180-180h160v-160H180v160Zm440 0h160v-160H620v160Z\"/>\n",
              "  </svg>\n",
              "    </button>\n",
              "\n",
              "  <style>\n",
              "    .colab-df-container {\n",
              "      display:flex;\n",
              "      gap: 12px;\n",
              "    }\n",
              "\n",
              "    .colab-df-convert {\n",
              "      background-color: #E8F0FE;\n",
              "      border: none;\n",
              "      border-radius: 50%;\n",
              "      cursor: pointer;\n",
              "      display: none;\n",
              "      fill: #1967D2;\n",
              "      height: 32px;\n",
              "      padding: 0 0 0 0;\n",
              "      width: 32px;\n",
              "    }\n",
              "\n",
              "    .colab-df-convert:hover {\n",
              "      background-color: #E2EBFA;\n",
              "      box-shadow: 0px 1px 2px rgba(60, 64, 67, 0.3), 0px 1px 3px 1px rgba(60, 64, 67, 0.15);\n",
              "      fill: #174EA6;\n",
              "    }\n",
              "\n",
              "    .colab-df-buttons div {\n",
              "      margin-bottom: 4px;\n",
              "    }\n",
              "\n",
              "    [theme=dark] .colab-df-convert {\n",
              "      background-color: #3B4455;\n",
              "      fill: #D2E3FC;\n",
              "    }\n",
              "\n",
              "    [theme=dark] .colab-df-convert:hover {\n",
              "      background-color: #434B5C;\n",
              "      box-shadow: 0px 1px 3px 1px rgba(0, 0, 0, 0.15);\n",
              "      filter: drop-shadow(0px 1px 2px rgba(0, 0, 0, 0.3));\n",
              "      fill: #FFFFFF;\n",
              "    }\n",
              "  </style>\n",
              "\n",
              "    <script>\n",
              "      const buttonEl =\n",
              "        document.querySelector('#df-f292c240-4394-4cf9-89b6-6883ed0b6f8a button.colab-df-convert');\n",
              "      buttonEl.style.display =\n",
              "        google.colab.kernel.accessAllowed ? 'block' : 'none';\n",
              "\n",
              "      async function convertToInteractive(key) {\n",
              "        const element = document.querySelector('#df-f292c240-4394-4cf9-89b6-6883ed0b6f8a');\n",
              "        const dataTable =\n",
              "          await google.colab.kernel.invokeFunction('convertToInteractive',\n",
              "                                                    [key], {});\n",
              "        if (!dataTable) return;\n",
              "\n",
              "        const docLinkHtml = 'Like what you see? Visit the ' +\n",
              "          '<a target=\"_blank\" href=https://colab.research.google.com/notebooks/data_table.ipynb>data table notebook</a>'\n",
              "          + ' to learn more about interactive tables.';\n",
              "        element.innerHTML = '';\n",
              "        dataTable['output_type'] = 'display_data';\n",
              "        await google.colab.output.renderOutput(dataTable, element);\n",
              "        const docLink = document.createElement('div');\n",
              "        docLink.innerHTML = docLinkHtml;\n",
              "        element.appendChild(docLink);\n",
              "      }\n",
              "    </script>\n",
              "  </div>\n",
              "\n",
              "\n",
              "<div id=\"df-b96d28ae-fe3b-4aab-9886-9f1f3acb816e\">\n",
              "  <button class=\"colab-df-quickchart\" onclick=\"quickchart('df-b96d28ae-fe3b-4aab-9886-9f1f3acb816e')\"\n",
              "            title=\"Suggest charts\"\n",
              "            style=\"display:none;\">\n",
              "\n",
              "<svg xmlns=\"http://www.w3.org/2000/svg\" height=\"24px\"viewBox=\"0 0 24 24\"\n",
              "     width=\"24px\">\n",
              "    <g>\n",
              "        <path d=\"M19 3H5c-1.1 0-2 .9-2 2v14c0 1.1.9 2 2 2h14c1.1 0 2-.9 2-2V5c0-1.1-.9-2-2-2zM9 17H7v-7h2v7zm4 0h-2V7h2v10zm4 0h-2v-4h2v4z\"/>\n",
              "    </g>\n",
              "</svg>\n",
              "  </button>\n",
              "\n",
              "<style>\n",
              "  .colab-df-quickchart {\n",
              "      --bg-color: #E8F0FE;\n",
              "      --fill-color: #1967D2;\n",
              "      --hover-bg-color: #E2EBFA;\n",
              "      --hover-fill-color: #174EA6;\n",
              "      --disabled-fill-color: #AAA;\n",
              "      --disabled-bg-color: #DDD;\n",
              "  }\n",
              "\n",
              "  [theme=dark] .colab-df-quickchart {\n",
              "      --bg-color: #3B4455;\n",
              "      --fill-color: #D2E3FC;\n",
              "      --hover-bg-color: #434B5C;\n",
              "      --hover-fill-color: #FFFFFF;\n",
              "      --disabled-bg-color: #3B4455;\n",
              "      --disabled-fill-color: #666;\n",
              "  }\n",
              "\n",
              "  .colab-df-quickchart {\n",
              "    background-color: var(--bg-color);\n",
              "    border: none;\n",
              "    border-radius: 50%;\n",
              "    cursor: pointer;\n",
              "    display: none;\n",
              "    fill: var(--fill-color);\n",
              "    height: 32px;\n",
              "    padding: 0;\n",
              "    width: 32px;\n",
              "  }\n",
              "\n",
              "  .colab-df-quickchart:hover {\n",
              "    background-color: var(--hover-bg-color);\n",
              "    box-shadow: 0 1px 2px rgba(60, 64, 67, 0.3), 0 1px 3px 1px rgba(60, 64, 67, 0.15);\n",
              "    fill: var(--button-hover-fill-color);\n",
              "  }\n",
              "\n",
              "  .colab-df-quickchart-complete:disabled,\n",
              "  .colab-df-quickchart-complete:disabled:hover {\n",
              "    background-color: var(--disabled-bg-color);\n",
              "    fill: var(--disabled-fill-color);\n",
              "    box-shadow: none;\n",
              "  }\n",
              "\n",
              "  .colab-df-spinner {\n",
              "    border: 2px solid var(--fill-color);\n",
              "    border-color: transparent;\n",
              "    border-bottom-color: var(--fill-color);\n",
              "    animation:\n",
              "      spin 1s steps(1) infinite;\n",
              "  }\n",
              "\n",
              "  @keyframes spin {\n",
              "    0% {\n",
              "      border-color: transparent;\n",
              "      border-bottom-color: var(--fill-color);\n",
              "      border-left-color: var(--fill-color);\n",
              "    }\n",
              "    20% {\n",
              "      border-color: transparent;\n",
              "      border-left-color: var(--fill-color);\n",
              "      border-top-color: var(--fill-color);\n",
              "    }\n",
              "    30% {\n",
              "      border-color: transparent;\n",
              "      border-left-color: var(--fill-color);\n",
              "      border-top-color: var(--fill-color);\n",
              "      border-right-color: var(--fill-color);\n",
              "    }\n",
              "    40% {\n",
              "      border-color: transparent;\n",
              "      border-right-color: var(--fill-color);\n",
              "      border-top-color: var(--fill-color);\n",
              "    }\n",
              "    60% {\n",
              "      border-color: transparent;\n",
              "      border-right-color: var(--fill-color);\n",
              "    }\n",
              "    80% {\n",
              "      border-color: transparent;\n",
              "      border-right-color: var(--fill-color);\n",
              "      border-bottom-color: var(--fill-color);\n",
              "    }\n",
              "    90% {\n",
              "      border-color: transparent;\n",
              "      border-bottom-color: var(--fill-color);\n",
              "    }\n",
              "  }\n",
              "</style>\n",
              "\n",
              "  <script>\n",
              "    async function quickchart(key) {\n",
              "      const quickchartButtonEl =\n",
              "        document.querySelector('#' + key + ' button');\n",
              "      quickchartButtonEl.disabled = true;  // To prevent multiple clicks.\n",
              "      quickchartButtonEl.classList.add('colab-df-spinner');\n",
              "      try {\n",
              "        const charts = await google.colab.kernel.invokeFunction(\n",
              "            'suggestCharts', [key], {});\n",
              "      } catch (error) {\n",
              "        console.error('Error during call to suggestCharts:', error);\n",
              "      }\n",
              "      quickchartButtonEl.classList.remove('colab-df-spinner');\n",
              "      quickchartButtonEl.classList.add('colab-df-quickchart-complete');\n",
              "    }\n",
              "    (() => {\n",
              "      let quickchartButtonEl =\n",
              "        document.querySelector('#df-b96d28ae-fe3b-4aab-9886-9f1f3acb816e button');\n",
              "      quickchartButtonEl.style.display =\n",
              "        google.colab.kernel.accessAllowed ? 'block' : 'none';\n",
              "    })();\n",
              "  </script>\n",
              "</div>\n",
              "\n",
              "    </div>\n",
              "  </div>\n"
            ],
            "application/vnd.google.colaboratory.intrinsic+json": {
              "type": "dataframe",
              "variable_name": "reviews_df",
              "summary": "{\n  \"name\": \"reviews_df\",\n  \"rows\": 3374,\n  \"fields\": [\n    {\n      \"column\": \"course_id\",\n      \"properties\": {\n        \"dtype\": \"category\",\n        \"num_unique_values\": 1025,\n        \"samples\": [\n          \" INTROACC\",\n          \" SPAN150\",\n          \" CSCI062\"\n        ],\n        \"semantic_type\": \"\",\n        \"description\": \"\"\n      }\n    },\n    {\n      \"column\": \"Quality\",\n      \"properties\": {\n        \"dtype\": \"category\",\n        \"num_unique_values\": 9,\n        \"samples\": [\n          \"1.5\",\n          \"3.0\",\n          \"1.0\"\n        ],\n        \"semantic_type\": \"\",\n        \"description\": \"\"\n      }\n    },\n    {\n      \"column\": \"Difficulty\",\n      \"properties\": {\n        \"dtype\": \"category\",\n        \"num_unique_values\": 5,\n        \"samples\": [\n          \"1.0\",\n          \"5.0\",\n          \"3.0\"\n        ],\n        \"semantic_type\": \"\",\n        \"description\": \"\"\n      }\n    },\n    {\n      \"column\": \"For Credit\",\n      \"properties\": {\n        \"dtype\": \"category\",\n        \"num_unique_values\": 1,\n        \"samples\": [\n          \"Yes\"\n        ],\n        \"semantic_type\": \"\",\n        \"description\": \"\"\n      }\n    },\n    {\n      \"column\": \"Would Take Again\",\n      \"properties\": {\n        \"dtype\": \"category\",\n        \"num_unique_values\": 2,\n        \"samples\": [\n          \"No\"\n        ],\n        \"semantic_type\": \"\",\n        \"description\": \"\"\n      }\n    },\n    {\n      \"column\": \"Grade\",\n      \"properties\": {\n        \"dtype\": \"category\",\n        \"num_unique_values\": 19,\n        \"samples\": [\n          \"A\"\n        ],\n        \"semantic_type\": \"\",\n        \"description\": \"\"\n      }\n    },\n    {\n      \"column\": \"Textbook\",\n      \"properties\": {\n        \"dtype\": \"category\",\n        \"num_unique_values\": 3,\n        \"samples\": [\n          \"No\"\n        ],\n        \"semantic_type\": \"\",\n        \"description\": \"\"\n      }\n    },\n    {\n      \"column\": \"Comment\",\n      \"properties\": {\n        \"dtype\": \"string\",\n        \"num_unique_values\": 3302,\n        \"samples\": [\n          \"Uses math exclusively to teach concepts.  I didn't put a whole lot of work in to the class, but I really studied for the last test and did well.  If you're willing to do outside work to study and are good with math, you'll do fine and learn some.  Funny, but digresses into material of 101.\"\n        ],\n        \"semantic_type\": \"\",\n        \"description\": \"\"\n      }\n    },\n    {\n      \"column\": \"professor\",\n      \"properties\": {\n        \"dtype\": \"category\",\n        \"num_unique_values\": 287,\n        \"samples\": [\n          \"Marjorie Charlop-Christy \"\n        ],\n        \"semantic_type\": \"\",\n        \"description\": \"\"\n      }\n    },\n    {\n      \"column\": \"department\",\n      \"properties\": {\n        \"dtype\": \"category\",\n        \"num_unique_values\": 21,\n        \"samples\": [\n          \"Government department\"\n        ],\n        \"semantic_type\": \"\",\n        \"description\": \"\"\n      }\n    },\n    {\n      \"column\": \"Attendance\",\n      \"properties\": {\n        \"dtype\": \"category\",\n        \"num_unique_values\": 2,\n        \"samples\": [\n          \"Not Mandatory\"\n        ],\n        \"semantic_type\": \"\",\n        \"description\": \"\"\n      }\n    },\n    {\n      \"column\": \"Online Class\",\n      \"properties\": {\n        \"dtype\": \"category\",\n        \"num_unique_values\": 1,\n        \"samples\": [\n          \"Yes\"\n        ],\n        \"semantic_type\": \"\",\n        \"description\": \"\"\n      }\n    }\n  ]\n}"
            }
          },
          "metadata": {},
          "execution_count": 138
        }
      ]
    },
    {
      "cell_type": "code",
      "source": [
        "import numpy as np\n",
        "import nltk\n",
        "from nltk.corpus import stopwords\n",
        "from nltk.stem import WordNetLemmatizer\n",
        "from nltk.tokenize import word_tokenize\n",
        "import string\n",
        "\n",
        "nltk.download('popular')\n",
        "nltk.download('stopwords')"
      ],
      "metadata": {
        "colab": {
          "base_uri": "https://localhost:8080/"
        },
        "id": "yndD52N82Qzh",
        "outputId": "d64aa435-4d54-4ad1-8b47-5d3ebd67b03f"
      },
      "execution_count": 139,
      "outputs": [
        {
          "output_type": "stream",
          "name": "stderr",
          "text": [
            "[nltk_data] Downloading collection 'popular'\n",
            "[nltk_data]    | \n",
            "[nltk_data]    | Downloading package cmudict to /root/nltk_data...\n",
            "[nltk_data]    |   Package cmudict is already up-to-date!\n",
            "[nltk_data]    | Downloading package gazetteers to /root/nltk_data...\n",
            "[nltk_data]    |   Package gazetteers is already up-to-date!\n",
            "[nltk_data]    | Downloading package genesis to /root/nltk_data...\n",
            "[nltk_data]    |   Package genesis is already up-to-date!\n",
            "[nltk_data]    | Downloading package gutenberg to /root/nltk_data...\n",
            "[nltk_data]    |   Package gutenberg is already up-to-date!\n",
            "[nltk_data]    | Downloading package inaugural to /root/nltk_data...\n",
            "[nltk_data]    |   Package inaugural is already up-to-date!\n",
            "[nltk_data]    | Downloading package movie_reviews to\n",
            "[nltk_data]    |     /root/nltk_data...\n",
            "[nltk_data]    |   Package movie_reviews is already up-to-date!\n",
            "[nltk_data]    | Downloading package names to /root/nltk_data...\n",
            "[nltk_data]    |   Package names is already up-to-date!\n",
            "[nltk_data]    | Downloading package shakespeare to /root/nltk_data...\n",
            "[nltk_data]    |   Package shakespeare is already up-to-date!\n",
            "[nltk_data]    | Downloading package stopwords to /root/nltk_data...\n",
            "[nltk_data]    |   Package stopwords is already up-to-date!\n",
            "[nltk_data]    | Downloading package treebank to /root/nltk_data...\n",
            "[nltk_data]    |   Package treebank is already up-to-date!\n",
            "[nltk_data]    | Downloading package twitter_samples to\n",
            "[nltk_data]    |     /root/nltk_data...\n",
            "[nltk_data]    |   Package twitter_samples is already up-to-date!\n",
            "[nltk_data]    | Downloading package omw to /root/nltk_data...\n",
            "[nltk_data]    |   Package omw is already up-to-date!\n",
            "[nltk_data]    | Downloading package omw-1.4 to /root/nltk_data...\n",
            "[nltk_data]    |   Package omw-1.4 is already up-to-date!\n",
            "[nltk_data]    | Downloading package wordnet to /root/nltk_data...\n",
            "[nltk_data]    |   Package wordnet is already up-to-date!\n",
            "[nltk_data]    | Downloading package wordnet2021 to /root/nltk_data...\n",
            "[nltk_data]    |   Package wordnet2021 is already up-to-date!\n",
            "[nltk_data]    | Downloading package wordnet31 to /root/nltk_data...\n",
            "[nltk_data]    |   Package wordnet31 is already up-to-date!\n",
            "[nltk_data]    | Downloading package wordnet_ic to /root/nltk_data...\n",
            "[nltk_data]    |   Package wordnet_ic is already up-to-date!\n",
            "[nltk_data]    | Downloading package words to /root/nltk_data...\n",
            "[nltk_data]    |   Package words is already up-to-date!\n",
            "[nltk_data]    | Downloading package maxent_ne_chunker to\n",
            "[nltk_data]    |     /root/nltk_data...\n",
            "[nltk_data]    |   Package maxent_ne_chunker is already up-to-date!\n",
            "[nltk_data]    | Downloading package punkt to /root/nltk_data...\n",
            "[nltk_data]    |   Package punkt is already up-to-date!\n",
            "[nltk_data]    | Downloading package snowball_data to\n",
            "[nltk_data]    |     /root/nltk_data...\n",
            "[nltk_data]    |   Package snowball_data is already up-to-date!\n",
            "[nltk_data]    | Downloading package averaged_perceptron_tagger to\n",
            "[nltk_data]    |     /root/nltk_data...\n",
            "[nltk_data]    |   Package averaged_perceptron_tagger is already up-\n",
            "[nltk_data]    |       to-date!\n",
            "[nltk_data]    | \n",
            "[nltk_data]  Done downloading collection popular\n",
            "[nltk_data] Downloading package stopwords to /root/nltk_data...\n",
            "[nltk_data]   Package stopwords is already up-to-date!\n"
          ]
        },
        {
          "output_type": "execute_result",
          "data": {
            "text/plain": [
              "True"
            ]
          },
          "metadata": {},
          "execution_count": 139
        }
      ]
    },
    {
      "cell_type": "code",
      "source": [
        "# Preprocessing Text Data\n",
        "def clean_text(text):\n",
        "    # Tokenize text\n",
        "    tokens = word_tokenize(text.lower())\n",
        "    # Remove punctuation\n",
        "    tokens = [word for word in tokens if word.isalpha()]\n",
        "    # Remove stopwords\n",
        "    stop_words = set(stopwords.words('english'))\n",
        "    tokens = [w for w in tokens if not w in stop_words]\n",
        "    # Lemmatization\n",
        "    lemmatizer = WordNetLemmatizer()\n",
        "    tokens = [lemmatizer.lemmatize(w) for w in tokens]\n",
        "    return ' '.join(tokens)"
      ],
      "metadata": {
        "id": "tvnUttQ_2seH"
      },
      "execution_count": 140,
      "outputs": []
    },
    {
      "cell_type": "code",
      "source": [
        "# Handle Missing Values\n",
        "\n",
        "# For numerical columns, convert to float and replace NaN with the column mean\n",
        "numerical_cols = ['Quality', 'Difficulty']\n",
        "for col in numerical_cols:\n",
        "    reviews_df[col] = pd.to_numeric(reviews_df[col], errors='coerce')\n",
        "    reviews_df[col].fillna(reviews_df[col].mean(), inplace=True)\n",
        "\n",
        "# For text columns, replace NaN with a placeholder\n",
        "categorical_cols = ['For Credit', 'Would Take Again', 'Textbook']\n",
        "for col in categorical_cols:\n",
        "    reviews_df[col].fillna('Unknown', inplace=True)"
      ],
      "metadata": {
        "id": "eVuEKHHU26Ax"
      },
      "execution_count": 141,
      "outputs": []
    },
    {
      "cell_type": "code",
      "source": [
        "# Encode Categorical Data\n",
        "# One-hot encoding for the 'department' column\n",
        "reviews_df = pd.get_dummies(reviews_df, columns=['department'])"
      ],
      "metadata": {
        "id": "IMK2uoXA5PL_"
      },
      "execution_count": 142,
      "outputs": []
    },
    {
      "cell_type": "code",
      "source": [
        "# Display the first few rows to verify changes\n",
        "reviews_df.head()"
      ],
      "metadata": {
        "id": "9_oLSqJP3O_u",
        "colab": {
          "base_uri": "https://localhost:8080/",
          "height": 672
        },
        "outputId": "9d8bae7a-eed8-4e55-a315-d1cd12ee78ae"
      },
      "execution_count": 143,
      "outputs": [
        {
          "output_type": "execute_result",
          "data": {
            "text/plain": [
              "        course_id  Quality  Difficulty For Credit Would Take Again Grade  \\\n",
              "0          FHS010      5.0         2.0        Yes              Yes     A   \n",
              "1          FHS010      3.0         1.0        Yes               No   NaN   \n",
              "2   POLPHILOSOPHY      4.0         1.0        Yes          Unknown   NaN   \n",
              "3          FHS010      5.0         2.0    Unknown          Unknown   NaN   \n",
              "4           FHS10      5.0         1.0    Unknown          Unknown   NaN   \n",
              "\n",
              "  Textbook                                            Comment       professor  \\\n",
              "0       No  Professor Nichols is super nice and very whole...  James Nichols    \n",
              "1       No  Very chill class and teacher, very easy grader...  James Nichols    \n",
              "2      Yes  Awesome, easy, knows literally everything abou...  James Nichols    \n",
              "3      Yes  Prof. Nichols is a super nice and encouraging ...  James Nichols    \n",
              "4      Yes  Good Professor. Really nice and encouraging te...  James Nichols    \n",
              "\n",
              "  Attendance  ... department_Mathematics department  \\\n",
              "0        NaN  ...                             False   \n",
              "1  Mandatory  ...                             False   \n",
              "2        NaN  ...                             False   \n",
              "3        NaN  ...                             False   \n",
              "4        NaN  ...                             False   \n",
              "\n",
              "   department_Modern Languages department  department_Philosophy department  \\\n",
              "0                                   False                             False   \n",
              "1                                   False                             False   \n",
              "2                                   False                             False   \n",
              "3                                   False                             False   \n",
              "4                                   False                             False   \n",
              "\n",
              "   department_Physical Education department  department_Physics department  \\\n",
              "0                                     False                          False   \n",
              "1                                     False                          False   \n",
              "2                                     False                          False   \n",
              "3                                     False                          False   \n",
              "4                                     False                          False   \n",
              "\n",
              "   department_Political Science department  department_Psychology department  \\\n",
              "0                                    False                             False   \n",
              "1                                    False                             False   \n",
              "2                                    False                             False   \n",
              "3                                    False                             False   \n",
              "4                                    False                             False   \n",
              "\n",
              "   department_Religion & Philosophy department  \\\n",
              "0                                        False   \n",
              "1                                        False   \n",
              "2                                        False   \n",
              "3                                        False   \n",
              "4                                        False   \n",
              "\n",
              "   department_Religious Studies department  department_Speech department  \n",
              "0                                    False                         False  \n",
              "1                                    False                         False  \n",
              "2                                    False                         False  \n",
              "3                                    False                         False  \n",
              "4                                    False                         False  \n",
              "\n",
              "[5 rows x 32 columns]"
            ],
            "text/html": [
              "\n",
              "  <div id=\"df-b06b0ec7-e53c-43f7-8cb2-ddffaf406e3c\" class=\"colab-df-container\">\n",
              "    <div>\n",
              "<style scoped>\n",
              "    .dataframe tbody tr th:only-of-type {\n",
              "        vertical-align: middle;\n",
              "    }\n",
              "\n",
              "    .dataframe tbody tr th {\n",
              "        vertical-align: top;\n",
              "    }\n",
              "\n",
              "    .dataframe thead th {\n",
              "        text-align: right;\n",
              "    }\n",
              "</style>\n",
              "<table border=\"1\" class=\"dataframe\">\n",
              "  <thead>\n",
              "    <tr style=\"text-align: right;\">\n",
              "      <th></th>\n",
              "      <th>course_id</th>\n",
              "      <th>Quality</th>\n",
              "      <th>Difficulty</th>\n",
              "      <th>For Credit</th>\n",
              "      <th>Would Take Again</th>\n",
              "      <th>Grade</th>\n",
              "      <th>Textbook</th>\n",
              "      <th>Comment</th>\n",
              "      <th>professor</th>\n",
              "      <th>Attendance</th>\n",
              "      <th>...</th>\n",
              "      <th>department_Mathematics department</th>\n",
              "      <th>department_Modern Languages department</th>\n",
              "      <th>department_Philosophy department</th>\n",
              "      <th>department_Physical Education department</th>\n",
              "      <th>department_Physics department</th>\n",
              "      <th>department_Political Science department</th>\n",
              "      <th>department_Psychology department</th>\n",
              "      <th>department_Religion &amp; Philosophy department</th>\n",
              "      <th>department_Religious Studies department</th>\n",
              "      <th>department_Speech department</th>\n",
              "    </tr>\n",
              "  </thead>\n",
              "  <tbody>\n",
              "    <tr>\n",
              "      <th>0</th>\n",
              "      <td>FHS010</td>\n",
              "      <td>5.0</td>\n",
              "      <td>2.0</td>\n",
              "      <td>Yes</td>\n",
              "      <td>Yes</td>\n",
              "      <td>A</td>\n",
              "      <td>No</td>\n",
              "      <td>Professor Nichols is super nice and very whole...</td>\n",
              "      <td>James Nichols</td>\n",
              "      <td>NaN</td>\n",
              "      <td>...</td>\n",
              "      <td>False</td>\n",
              "      <td>False</td>\n",
              "      <td>False</td>\n",
              "      <td>False</td>\n",
              "      <td>False</td>\n",
              "      <td>False</td>\n",
              "      <td>False</td>\n",
              "      <td>False</td>\n",
              "      <td>False</td>\n",
              "      <td>False</td>\n",
              "    </tr>\n",
              "    <tr>\n",
              "      <th>1</th>\n",
              "      <td>FHS010</td>\n",
              "      <td>3.0</td>\n",
              "      <td>1.0</td>\n",
              "      <td>Yes</td>\n",
              "      <td>No</td>\n",
              "      <td>NaN</td>\n",
              "      <td>No</td>\n",
              "      <td>Very chill class and teacher, very easy grader...</td>\n",
              "      <td>James Nichols</td>\n",
              "      <td>Mandatory</td>\n",
              "      <td>...</td>\n",
              "      <td>False</td>\n",
              "      <td>False</td>\n",
              "      <td>False</td>\n",
              "      <td>False</td>\n",
              "      <td>False</td>\n",
              "      <td>False</td>\n",
              "      <td>False</td>\n",
              "      <td>False</td>\n",
              "      <td>False</td>\n",
              "      <td>False</td>\n",
              "    </tr>\n",
              "    <tr>\n",
              "      <th>2</th>\n",
              "      <td>POLPHILOSOPHY</td>\n",
              "      <td>4.0</td>\n",
              "      <td>1.0</td>\n",
              "      <td>Yes</td>\n",
              "      <td>Unknown</td>\n",
              "      <td>NaN</td>\n",
              "      <td>Yes</td>\n",
              "      <td>Awesome, easy, knows literally everything abou...</td>\n",
              "      <td>James Nichols</td>\n",
              "      <td>NaN</td>\n",
              "      <td>...</td>\n",
              "      <td>False</td>\n",
              "      <td>False</td>\n",
              "      <td>False</td>\n",
              "      <td>False</td>\n",
              "      <td>False</td>\n",
              "      <td>False</td>\n",
              "      <td>False</td>\n",
              "      <td>False</td>\n",
              "      <td>False</td>\n",
              "      <td>False</td>\n",
              "    </tr>\n",
              "    <tr>\n",
              "      <th>3</th>\n",
              "      <td>FHS010</td>\n",
              "      <td>5.0</td>\n",
              "      <td>2.0</td>\n",
              "      <td>Unknown</td>\n",
              "      <td>Unknown</td>\n",
              "      <td>NaN</td>\n",
              "      <td>Yes</td>\n",
              "      <td>Prof. Nichols is a super nice and encouraging ...</td>\n",
              "      <td>James Nichols</td>\n",
              "      <td>NaN</td>\n",
              "      <td>...</td>\n",
              "      <td>False</td>\n",
              "      <td>False</td>\n",
              "      <td>False</td>\n",
              "      <td>False</td>\n",
              "      <td>False</td>\n",
              "      <td>False</td>\n",
              "      <td>False</td>\n",
              "      <td>False</td>\n",
              "      <td>False</td>\n",
              "      <td>False</td>\n",
              "    </tr>\n",
              "    <tr>\n",
              "      <th>4</th>\n",
              "      <td>FHS10</td>\n",
              "      <td>5.0</td>\n",
              "      <td>1.0</td>\n",
              "      <td>Unknown</td>\n",
              "      <td>Unknown</td>\n",
              "      <td>NaN</td>\n",
              "      <td>Yes</td>\n",
              "      <td>Good Professor. Really nice and encouraging te...</td>\n",
              "      <td>James Nichols</td>\n",
              "      <td>NaN</td>\n",
              "      <td>...</td>\n",
              "      <td>False</td>\n",
              "      <td>False</td>\n",
              "      <td>False</td>\n",
              "      <td>False</td>\n",
              "      <td>False</td>\n",
              "      <td>False</td>\n",
              "      <td>False</td>\n",
              "      <td>False</td>\n",
              "      <td>False</td>\n",
              "      <td>False</td>\n",
              "    </tr>\n",
              "  </tbody>\n",
              "</table>\n",
              "<p>5 rows × 32 columns</p>\n",
              "</div>\n",
              "    <div class=\"colab-df-buttons\">\n",
              "\n",
              "  <div class=\"colab-df-container\">\n",
              "    <button class=\"colab-df-convert\" onclick=\"convertToInteractive('df-b06b0ec7-e53c-43f7-8cb2-ddffaf406e3c')\"\n",
              "            title=\"Convert this dataframe to an interactive table.\"\n",
              "            style=\"display:none;\">\n",
              "\n",
              "  <svg xmlns=\"http://www.w3.org/2000/svg\" height=\"24px\" viewBox=\"0 -960 960 960\">\n",
              "    <path d=\"M120-120v-720h720v720H120Zm60-500h600v-160H180v160Zm220 220h160v-160H400v160Zm0 220h160v-160H400v160ZM180-400h160v-160H180v160Zm440 0h160v-160H620v160ZM180-180h160v-160H180v160Zm440 0h160v-160H620v160Z\"/>\n",
              "  </svg>\n",
              "    </button>\n",
              "\n",
              "  <style>\n",
              "    .colab-df-container {\n",
              "      display:flex;\n",
              "      gap: 12px;\n",
              "    }\n",
              "\n",
              "    .colab-df-convert {\n",
              "      background-color: #E8F0FE;\n",
              "      border: none;\n",
              "      border-radius: 50%;\n",
              "      cursor: pointer;\n",
              "      display: none;\n",
              "      fill: #1967D2;\n",
              "      height: 32px;\n",
              "      padding: 0 0 0 0;\n",
              "      width: 32px;\n",
              "    }\n",
              "\n",
              "    .colab-df-convert:hover {\n",
              "      background-color: #E2EBFA;\n",
              "      box-shadow: 0px 1px 2px rgba(60, 64, 67, 0.3), 0px 1px 3px 1px rgba(60, 64, 67, 0.15);\n",
              "      fill: #174EA6;\n",
              "    }\n",
              "\n",
              "    .colab-df-buttons div {\n",
              "      margin-bottom: 4px;\n",
              "    }\n",
              "\n",
              "    [theme=dark] .colab-df-convert {\n",
              "      background-color: #3B4455;\n",
              "      fill: #D2E3FC;\n",
              "    }\n",
              "\n",
              "    [theme=dark] .colab-df-convert:hover {\n",
              "      background-color: #434B5C;\n",
              "      box-shadow: 0px 1px 3px 1px rgba(0, 0, 0, 0.15);\n",
              "      filter: drop-shadow(0px 1px 2px rgba(0, 0, 0, 0.3));\n",
              "      fill: #FFFFFF;\n",
              "    }\n",
              "  </style>\n",
              "\n",
              "    <script>\n",
              "      const buttonEl =\n",
              "        document.querySelector('#df-b06b0ec7-e53c-43f7-8cb2-ddffaf406e3c button.colab-df-convert');\n",
              "      buttonEl.style.display =\n",
              "        google.colab.kernel.accessAllowed ? 'block' : 'none';\n",
              "\n",
              "      async function convertToInteractive(key) {\n",
              "        const element = document.querySelector('#df-b06b0ec7-e53c-43f7-8cb2-ddffaf406e3c');\n",
              "        const dataTable =\n",
              "          await google.colab.kernel.invokeFunction('convertToInteractive',\n",
              "                                                    [key], {});\n",
              "        if (!dataTable) return;\n",
              "\n",
              "        const docLinkHtml = 'Like what you see? Visit the ' +\n",
              "          '<a target=\"_blank\" href=https://colab.research.google.com/notebooks/data_table.ipynb>data table notebook</a>'\n",
              "          + ' to learn more about interactive tables.';\n",
              "        element.innerHTML = '';\n",
              "        dataTable['output_type'] = 'display_data';\n",
              "        await google.colab.output.renderOutput(dataTable, element);\n",
              "        const docLink = document.createElement('div');\n",
              "        docLink.innerHTML = docLinkHtml;\n",
              "        element.appendChild(docLink);\n",
              "      }\n",
              "    </script>\n",
              "  </div>\n",
              "\n",
              "\n",
              "<div id=\"df-6722e2de-9744-4c7e-9f40-5dcc71034008\">\n",
              "  <button class=\"colab-df-quickchart\" onclick=\"quickchart('df-6722e2de-9744-4c7e-9f40-5dcc71034008')\"\n",
              "            title=\"Suggest charts\"\n",
              "            style=\"display:none;\">\n",
              "\n",
              "<svg xmlns=\"http://www.w3.org/2000/svg\" height=\"24px\"viewBox=\"0 0 24 24\"\n",
              "     width=\"24px\">\n",
              "    <g>\n",
              "        <path d=\"M19 3H5c-1.1 0-2 .9-2 2v14c0 1.1.9 2 2 2h14c1.1 0 2-.9 2-2V5c0-1.1-.9-2-2-2zM9 17H7v-7h2v7zm4 0h-2V7h2v10zm4 0h-2v-4h2v4z\"/>\n",
              "    </g>\n",
              "</svg>\n",
              "  </button>\n",
              "\n",
              "<style>\n",
              "  .colab-df-quickchart {\n",
              "      --bg-color: #E8F0FE;\n",
              "      --fill-color: #1967D2;\n",
              "      --hover-bg-color: #E2EBFA;\n",
              "      --hover-fill-color: #174EA6;\n",
              "      --disabled-fill-color: #AAA;\n",
              "      --disabled-bg-color: #DDD;\n",
              "  }\n",
              "\n",
              "  [theme=dark] .colab-df-quickchart {\n",
              "      --bg-color: #3B4455;\n",
              "      --fill-color: #D2E3FC;\n",
              "      --hover-bg-color: #434B5C;\n",
              "      --hover-fill-color: #FFFFFF;\n",
              "      --disabled-bg-color: #3B4455;\n",
              "      --disabled-fill-color: #666;\n",
              "  }\n",
              "\n",
              "  .colab-df-quickchart {\n",
              "    background-color: var(--bg-color);\n",
              "    border: none;\n",
              "    border-radius: 50%;\n",
              "    cursor: pointer;\n",
              "    display: none;\n",
              "    fill: var(--fill-color);\n",
              "    height: 32px;\n",
              "    padding: 0;\n",
              "    width: 32px;\n",
              "  }\n",
              "\n",
              "  .colab-df-quickchart:hover {\n",
              "    background-color: var(--hover-bg-color);\n",
              "    box-shadow: 0 1px 2px rgba(60, 64, 67, 0.3), 0 1px 3px 1px rgba(60, 64, 67, 0.15);\n",
              "    fill: var(--button-hover-fill-color);\n",
              "  }\n",
              "\n",
              "  .colab-df-quickchart-complete:disabled,\n",
              "  .colab-df-quickchart-complete:disabled:hover {\n",
              "    background-color: var(--disabled-bg-color);\n",
              "    fill: var(--disabled-fill-color);\n",
              "    box-shadow: none;\n",
              "  }\n",
              "\n",
              "  .colab-df-spinner {\n",
              "    border: 2px solid var(--fill-color);\n",
              "    border-color: transparent;\n",
              "    border-bottom-color: var(--fill-color);\n",
              "    animation:\n",
              "      spin 1s steps(1) infinite;\n",
              "  }\n",
              "\n",
              "  @keyframes spin {\n",
              "    0% {\n",
              "      border-color: transparent;\n",
              "      border-bottom-color: var(--fill-color);\n",
              "      border-left-color: var(--fill-color);\n",
              "    }\n",
              "    20% {\n",
              "      border-color: transparent;\n",
              "      border-left-color: var(--fill-color);\n",
              "      border-top-color: var(--fill-color);\n",
              "    }\n",
              "    30% {\n",
              "      border-color: transparent;\n",
              "      border-left-color: var(--fill-color);\n",
              "      border-top-color: var(--fill-color);\n",
              "      border-right-color: var(--fill-color);\n",
              "    }\n",
              "    40% {\n",
              "      border-color: transparent;\n",
              "      border-right-color: var(--fill-color);\n",
              "      border-top-color: var(--fill-color);\n",
              "    }\n",
              "    60% {\n",
              "      border-color: transparent;\n",
              "      border-right-color: var(--fill-color);\n",
              "    }\n",
              "    80% {\n",
              "      border-color: transparent;\n",
              "      border-right-color: var(--fill-color);\n",
              "      border-bottom-color: var(--fill-color);\n",
              "    }\n",
              "    90% {\n",
              "      border-color: transparent;\n",
              "      border-bottom-color: var(--fill-color);\n",
              "    }\n",
              "  }\n",
              "</style>\n",
              "\n",
              "  <script>\n",
              "    async function quickchart(key) {\n",
              "      const quickchartButtonEl =\n",
              "        document.querySelector('#' + key + ' button');\n",
              "      quickchartButtonEl.disabled = true;  // To prevent multiple clicks.\n",
              "      quickchartButtonEl.classList.add('colab-df-spinner');\n",
              "      try {\n",
              "        const charts = await google.colab.kernel.invokeFunction(\n",
              "            'suggestCharts', [key], {});\n",
              "      } catch (error) {\n",
              "        console.error('Error during call to suggestCharts:', error);\n",
              "      }\n",
              "      quickchartButtonEl.classList.remove('colab-df-spinner');\n",
              "      quickchartButtonEl.classList.add('colab-df-quickchart-complete');\n",
              "    }\n",
              "    (() => {\n",
              "      let quickchartButtonEl =\n",
              "        document.querySelector('#df-6722e2de-9744-4c7e-9f40-5dcc71034008 button');\n",
              "      quickchartButtonEl.style.display =\n",
              "        google.colab.kernel.accessAllowed ? 'block' : 'none';\n",
              "    })();\n",
              "  </script>\n",
              "</div>\n",
              "\n",
              "    </div>\n",
              "  </div>\n"
            ],
            "application/vnd.google.colaboratory.intrinsic+json": {
              "type": "dataframe",
              "variable_name": "reviews_df"
            }
          },
          "metadata": {},
          "execution_count": 143
        }
      ]
    },
    {
      "cell_type": "markdown",
      "source": [],
      "metadata": {
        "id": "y9vDGp85adt6"
      }
    },
    {
      "cell_type": "markdown",
      "source": [
        "### Feature Engineering"
      ],
      "metadata": {
        "id": "ZkI1U3Ky6lCA"
      }
    },
    {
      "cell_type": "markdown",
      "source": [
        "We will create a sentiment feature, that will categorize the overall sentiment of a professor's comments as positive, negative, or neutral based on an analysis of their text. We will also aggregate the relevant columns of our dataframe and calculate the percentage of positive, negative, and neutral comments each professor received."
      ],
      "metadata": {
        "id": "H6lVdBFBaLcz"
      }
    },
    {
      "cell_type": "code",
      "source": [
        "from textblob import TextBlob\n",
        "\n",
        "# Sentiment Analysis with TextBlob\n",
        "reviews_df['sentiment'] = reviews_df['Comment'].apply(lambda comment: TextBlob(comment).sentiment.polarity)"
      ],
      "metadata": {
        "id": "umacijwi7DSS"
      },
      "execution_count": 144,
      "outputs": []
    },
    {
      "cell_type": "code",
      "source": [
        "# Aggregate Features\n",
        "# Define the columns for which we want to calculate aggregate statistics\n",
        "columns_to_aggregate = ['Quality', 'Difficulty', 'sentiment']"
      ],
      "metadata": {
        "id": "TEnnSs8q7JL7"
      },
      "execution_count": 145,
      "outputs": []
    },
    {
      "cell_type": "code",
      "source": [
        "# Group by professor and aggregate with mean, median, and std\n",
        "aggregated_features = reviews_df.groupby('professor')[columns_to_aggregate].agg(['mean', 'median', 'std']).reset_index()"
      ],
      "metadata": {
        "id": "wc7p1FWv7Kpe"
      },
      "execution_count": 146,
      "outputs": []
    },
    {
      "cell_type": "code",
      "source": [
        "# Flattening the multiindex for easier column access\n",
        "aggregated_features.columns = ['_'.join(col).strip() for col in aggregated_features.columns.values]"
      ],
      "metadata": {
        "id": "qPcUDSCD7L4x"
      },
      "execution_count": 147,
      "outputs": []
    },
    {
      "cell_type": "code",
      "source": [
        "# Display the aggregated features to verify\n",
        "print(aggregated_features.head())"
      ],
      "metadata": {
        "id": "-phkhKSh7NaJ",
        "colab": {
          "base_uri": "https://localhost:8080/"
        },
        "outputId": "5bf9f351-673b-403b-e0a4-605ead3b318b"
      },
      "execution_count": 148,
      "outputs": [
        {
          "output_type": "stream",
          "name": "stdout",
          "text": [
            "        professor_  Quality_mean  Quality_median  Quality_std  \\\n",
            "0   Andrew Finley       3.400000             3.5     1.646545   \n",
            "1   Aaron Leconte       3.678571             4.0     1.408861   \n",
            "2    Adam Bradley       4.200000             4.5     0.774597   \n",
            "3      Adam Johns       5.000000             5.0     0.000000   \n",
            "4  Adam Landsberg       4.750000             5.0     0.500000   \n",
            "\n",
            "   Difficulty_mean  Difficulty_median  Difficulty_std  sentiment_mean  \\\n",
            "0         3.900000                4.0        0.737865        0.068249   \n",
            "1         4.000000                4.0        0.679366        0.162380   \n",
            "2         3.333333                3.0        1.234427        0.289987   \n",
            "3         3.500000                3.5        0.707107        0.353472   \n",
            "4         3.833333                4.0        0.717741        0.275664   \n",
            "\n",
            "   sentiment_median  sentiment_std  \n",
            "0          0.165278       0.327077  \n",
            "1          0.199603       0.218554  \n",
            "2          0.316667       0.190099  \n",
            "3          0.353472       0.057943  \n",
            "4          0.267269       0.175756  \n"
          ]
        }
      ]
    },
    {
      "cell_type": "code",
      "source": [
        "print(aggregated_features.columns)"
      ],
      "metadata": {
        "colab": {
          "base_uri": "https://localhost:8080/"
        },
        "id": "J_rursxxh7WC",
        "outputId": "efc4f398-f078-49c5-daa2-671ec3417296"
      },
      "execution_count": 149,
      "outputs": [
        {
          "output_type": "stream",
          "name": "stdout",
          "text": [
            "Index(['professor_', 'Quality_mean', 'Quality_median', 'Quality_std',\n",
            "       'Difficulty_mean', 'Difficulty_median', 'Difficulty_std',\n",
            "       'sentiment_mean', 'sentiment_median', 'sentiment_std'],\n",
            "      dtype='object')\n"
          ]
        }
      ]
    },
    {
      "cell_type": "code",
      "source": [
        "# Categorizing 'sentiment'\n",
        "\n",
        "def sentiment_category(score):\n",
        "    if score > 0:\n",
        "        return 'Positive'\n",
        "    elif score < 0:\n",
        "        return 'Negative'\n",
        "    else:\n",
        "        return 'Neutral'\n",
        "\n",
        "# Categorize sentiment\n",
        "reviews_df['sentiment_category'] = reviews_df['sentiment'].apply(sentiment_category)\n",
        "\n",
        "# Calculate the percentage of each sentiment category per professor\n",
        "sentiment_distribution = reviews_df.groupby('professor')['sentiment_category'].value_counts(normalize=True).unstack().fillna(0)\n",
        "\n",
        "# Multiply by 100 for percentage representation and reset index for readability\n",
        "sentiment_distribution = (sentiment_distribution * 100).reset_index()\n",
        "\n",
        "# Display the sentiment distribution for each professor\n",
        "print(sentiment_distribution)\n"
      ],
      "metadata": {
        "id": "jQwh2QP19GVb",
        "colab": {
          "base_uri": "https://localhost:8080/"
        },
        "outputId": "da55c830-acc5-4b80-afe7-e0b95ba911a7"
      },
      "execution_count": 150,
      "outputs": [
        {
          "output_type": "stream",
          "name": "stdout",
          "text": [
            "sentiment_category         professor   Negative    Neutral    Positive\n",
            "0                     Andrew Finley   30.000000   0.000000   70.000000\n",
            "1                     Aaron Leconte   14.285714   0.000000   85.714286\n",
            "2                      Adam Bradley    6.666667   6.666667   86.666667\n",
            "3                        Adam Johns    0.000000   0.000000  100.000000\n",
            "4                    Adam Landsberg    0.000000   8.333333   91.666667\n",
            "..                               ...        ...        ...         ...\n",
            "282                     Yaron Raviv   38.709677   0.000000   61.290323\n",
            "283                        Yong Kim    0.000000   0.000000  100.000000\n",
            "284                 Yosef Bonaparte    0.000000   0.000000  100.000000\n",
            "285                 Zachary Courser   21.428571  14.285714   64.285714\n",
            "286                  shane Bjornlie    5.000000   0.000000   95.000000\n",
            "\n",
            "[287 rows x 4 columns]\n"
          ]
        }
      ]
    },
    {
      "cell_type": "markdown",
      "source": [
        "### Data Visualization"
      ],
      "metadata": {
        "id": "uVfIFHovduso"
      }
    },
    {
      "cell_type": "code",
      "source": [
        "from matplotlib import pyplot as plt\n",
        "from matplotlib.ticker import PercentFormatter\n",
        "\n",
        "# make plots appear in the notebook\n",
        "%matplotlib inline"
      ],
      "metadata": {
        "id": "PXs3F8Wbdxtj"
      },
      "execution_count": 151,
      "outputs": []
    },
    {
      "cell_type": "code",
      "source": [
        "# Percentage of each quality score\n",
        "\n",
        "plt.hist(aggregated_features['Quality_mean'], weights=np.ones(len(aggregated_features)) / len(aggregated_features), edgecolor='black')\n",
        "\n",
        "plt.gca().yaxis.set_major_formatter(PercentFormatter(1))\n",
        "\n",
        "plt.xlabel('Quality Score Mean')\n",
        "plt.ylabel('Percentage')\n",
        "\n",
        "plt.show()"
      ],
      "metadata": {
        "colab": {
          "base_uri": "https://localhost:8080/",
          "height": 449
        },
        "id": "mOgFpT2Idzhk",
        "outputId": "ec275637-b6d2-4417-c716-308ce1e40a87"
      },
      "execution_count": 152,
      "outputs": [
        {
          "output_type": "display_data",
          "data": {
            "text/plain": [
              "<Figure size 640x480 with 1 Axes>"
            ],
            "image/png": "[encoded data removed]"
          },
          "metadata": {}
        }
      ]
    },
    {
      "cell_type": "code",
      "source": [
        "# Positive vs. negative comments scatter plot\n",
        "\n",
        "plt.xlabel('Positive %')\n",
        "plt.ylabel('Negative %')\n",
        "plt.scatter(sentiment_distribution['Positive'], sentiment_distribution['Negative'], color='green', marker='+')"
      ],
      "metadata": {
        "colab": {
          "base_uri": "https://localhost:8080/",
          "height": 467
        },
        "id": "m4O7d_CLfypk",
        "outputId": "7aa61fea-8bd0-4ac7-ccac-5b57fd15e2cd"
      },
      "execution_count": 153,
      "outputs": [
        {
          "output_type": "execute_result",
          "data": {
            "text/plain": [
              "<matplotlib.collections.PathCollection at 0x7b9cda1852d0>"
            ]
          },
          "metadata": {},
          "execution_count": 153
        },
        {
          "output_type": "display_data",
          "data": {
            "text/plain": [
              "<Figure size 640x480 with 1 Axes>"
            ],
            "image/png": "[encoded data removed]"
          },
          "metadata": {}
        }
      ]
    },
    {
      "cell_type": "code",
      "source": [
        "# Percentage of each difficulty score\n",
        "\n",
        "plt.hist(aggregated_features['Difficulty_mean'], weights=np.ones(len(aggregated_features)) / len(aggregated_features), edgecolor='black')\n",
        "\n",
        "plt.gca().yaxis.set_major_formatter(PercentFormatter(1))\n",
        "\n",
        "plt.xlabel('Difficulty Score Mean')\n",
        "plt.ylabel('Percentage')\n",
        "\n",
        "plt.show()"
      ],
      "metadata": {
        "colab": {
          "base_uri": "https://localhost:8080/",
          "height": 449
        },
        "id": "gPpAzRf0j1dN",
        "outputId": "9f922f1b-2729-4e3a-be74-62ce1fa9b0b5"
      },
      "execution_count": 154,
      "outputs": [
        {
          "output_type": "display_data",
          "data": {
            "text/plain": [
              "<Figure size 640x480 with 1 Axes>"
            ],
            "image/png": "[encoded data removed]"
          },
          "metadata": {}
        }
      ]
    },
    {
      "cell_type": "code",
      "source": [
        "# Percentage of each sentiment score\n",
        "\n",
        "plt.hist(aggregated_features['sentiment_mean'], weights=np.ones(len(aggregated_features)) / len(aggregated_features), edgecolor='black')\n",
        "\n",
        "plt.gca().yaxis.set_major_formatter(PercentFormatter(1))\n",
        "\n",
        "plt.xlabel('Sentiment Score Mean')\n",
        "plt.ylabel('Percentage')\n",
        "\n",
        "plt.show()"
      ],
      "metadata": {
        "colab": {
          "base_uri": "https://localhost:8080/",
          "height": 449
        },
        "id": "GzV966OaGSHI",
        "outputId": "cc5a347f-9d8c-48e5-f821-206896667ec9"
      },
      "execution_count": 155,
      "outputs": [
        {
          "output_type": "display_data",
          "data": {
            "text/plain": [
              "<Figure size 640x480 with 1 Axes>"
            ],
            "image/png": "[encoded data removed]"
          },
          "metadata": {}
        }
      ]
    },
    {
      "cell_type": "markdown",
      "source": [
        "### Rank Professors By Inputted Category"
      ],
      "metadata": {
        "id": "6JOEv1u0ee4z"
      }
    },
    {
      "cell_type": "code",
      "source": [
        "import pandas as pd\n",
        "import numpy as np\n",
        "from textblob import TextBlob"
      ],
      "metadata": {
        "id": "ERg42OGwCPki"
      },
      "execution_count": 156,
      "outputs": []
    },
    {
      "cell_type": "code",
      "source": [
        "# Ensuring numeric columns are of a numeric dtype\n",
        "reviews_df['Quality'] = pd.to_numeric(reviews_df['Quality'], errors='coerce')\n",
        "reviews_df['Difficulty'] = pd.to_numeric(reviews_df['Difficulty'], errors='coerce')\n",
        "reviews_df['Would Take Again'] = pd.to_numeric(reviews_df['Would Take Again'], errors='coerce')\n",
        "reviews_df['sentiment'] = pd.to_numeric(reviews_df['sentiment'], errors='coerce')"
      ],
      "metadata": {
        "id": "3S-JJwRmCR9u"
      },
      "execution_count": 157,
      "outputs": []
    },
    {
      "cell_type": "code",
      "source": [
        "# Converting 'Would Take Again' to a numerical format for aggregation\n",
        "reviews_df['Would Take Again'] = reviews_df['Would Take Again'].replace({'Yes': 1, 'No': 0})\n",
        "\n",
        "# Converting 'Grade' to a numerical format for aggregation\n",
        "grade_mapping = {\n",
        "    'A+': 4.3, 'A': 4.0, 'A-': 3.7,\n",
        "    'B+': 3.3, 'B': 3.0, 'B-': 2.7,\n",
        "    'C+': 2.3, 'C': 2.0, 'C-': 1.7,\n",
        "    'D+': 1.3, 'D': 1.0, 'F': 0,\n",
        "    'Drop/Withdrawal': np.nan,\n",
        "    'Incomplete': np.nan,\n",
        "    'Not sure yet': np.nan,\n",
        "    'Not_Sure_Yet': np.nan,\n",
        "    'Rather not say': np.nan,\n",
        "    'Rather_Not_Say': np.nan,\n",
        "    'Unknown': np.nan\n",
        "}\n",
        "\n",
        "# Applying the mapping to the 'Grade' column\n",
        "reviews_df['Grade_Numerical'] = reviews_df['Grade'].map(grade_mapping)"
      ],
      "metadata": {
        "id": "djH2O1hGCVaI"
      },
      "execution_count": 158,
      "outputs": []
    },
    {
      "cell_type": "code",
      "source": [
        "# Filling NaN values\n",
        "reviews_df['Grade_Numerical'].fillna(reviews_df['Grade_Numerical'].mean(), inplace=True)\n",
        "reviews_df['Quality'].fillna(reviews_df['Quality'].mean(), inplace=True)\n",
        "reviews_df['Difficulty'].fillna(reviews_df['Difficulty'].mean(), inplace=True)\n",
        "reviews_df['Would Take Again'].fillna(0, inplace=True)\n",
        "reviews_df['sentiment'].fillna(0, inplace=True) # Neutral sentiment if missing"
      ],
      "metadata": {
        "id": "0lAKzrjBCc1w"
      },
      "execution_count": 159,
      "outputs": []
    },
    {
      "cell_type": "code",
      "source": [
        "# Aggregating features by professor, also considering course if we need to filter by it later\n",
        "aggregated_features = reviews_df.groupby(['professor', 'course_id']).agg({\n",
        "    'Quality': 'mean',\n",
        "    'Difficulty': 'mean',\n",
        "    'Would Take Again': 'mean',\n",
        "    'sentiment': 'mean',\n",
        "    'Grade_Numerical': 'mean'\n",
        "}).reset_index()"
      ],
      "metadata": {
        "id": "mYzgS4wpCfFF"
      },
      "execution_count": 160,
      "outputs": []
    },
    {
      "cell_type": "code",
      "source": [
        "# Function to get the best professor for the course\n",
        "def get_best_professor(department=None, course_id=None, df=aggregated_features):\n",
        "    if course_id:\n",
        "        df = df[df['course_id'] == course_id]\n",
        "\n",
        "    if df.empty:\n",
        "        # If no matches found, return a message indicating this\n",
        "        return f\"No data found for the given criteria.\"\n",
        "\n",
        "    # Calculating the composite score\n",
        "    df['composite_score'] = (df['Quality'] * 2 + df['Would Take Again'] * 1.5 +\n",
        "                             df['sentiment'] * 1 - df['Difficulty'] * 2 +\n",
        "                             df['Grade_Numerical'] * 1)\n",
        "\n",
        "    # Getting the best professor based on the highest composite score\n",
        "    best_professor = df.sort_values(by='composite_score', ascending=False).iloc[0]\n",
        "\n",
        "    return best_professor[['professor']]"
      ],
      "metadata": {
        "id": "Vxx_mb6SChxP"
      },
      "execution_count": 161,
      "outputs": []
    },
    {
      "cell_type": "code",
      "source": [
        "# Example\n",
        "best_prof_for_course = get_best_professor(course_id=' FHS01')\n",
        "\n",
        "print(\"Best Professor for Course:\", best_prof_for_course)"
      ],
      "metadata": {
        "colab": {
          "base_uri": "https://localhost:8080/"
        },
        "id": "ORT2n6ZnCnsx",
        "outputId": "9a05c304-21b8-454b-bddc-fb50104d4a70"
      },
      "execution_count": 162,
      "outputs": [
        {
          "output_type": "stream",
          "name": "stdout",
          "text": [
            "Best Professor for Course: professor    Amy Kind \n",
            "Name: 60, dtype: object\n"
          ]
        },
        {
          "output_type": "stream",
          "name": "stderr",
          "text": [
            "<ipython-input-161-00c1976454f5>:11: SettingWithCopyWarning: \n",
            "A value is trying to be set on a copy of a slice from a DataFrame.\n",
            "Try using .loc[row_indexer,col_indexer] = value instead\n",
            "\n",
            "See the caveats in the documentation: https://pandas.pydata.org/pandas-docs/stable/user_guide/indexing.html#returning-a-view-versus-a-copy\n",
            "  df['composite_score'] = (df['Quality'] * 2 + df['Would Take Again'] * 1.5 +\n"
          ]
        }
      ]
    },
    {
      "cell_type": "markdown",
      "source": [
        "### Find Key Words In Reviews"
      ],
      "metadata": {
        "id": "dkho6cjpumQ8"
      }
    },
    {
      "cell_type": "markdown",
      "source": [
        "We can create a function that can extract key themes or keywords from the comments associated with a given professor. We can use a NLP technique called Term Frequency-Inverse Document Frequency (TF-IDF) to find important words in the comments."
      ],
      "metadata": {
        "id": "gnlDSwrGu0jM"
      }
    },
    {
      "cell_type": "code",
      "source": [
        "# Import TF-IDF\n",
        "from sklearn.feature_extraction.text import TfidfVectorizer"
      ],
      "metadata": {
        "id": "2m8BV4CKDBKw"
      },
      "execution_count": 163,
      "outputs": []
    },
    {
      "cell_type": "code",
      "source": [
        "# Fix professor names\n",
        "reviews_df['professor'] = reviews_df['professor'].str.strip().str.lower()"
      ],
      "metadata": {
        "id": "cA-Cw8f3DDDF"
      },
      "execution_count": 164,
      "outputs": []
    },
    {
      "cell_type": "code",
      "source": [
        "def preprocess_text(text):\n",
        "    text = text.lower()\n",
        "    # Replace punctuation with space\n",
        "    text = ''.join([char if char.isalnum() or char.isspace() else ' ' for char in text])\n",
        "    return text\n",
        "\n",
        "# Preprocess comment column\n",
        "reviews_df['cleaned_comments'] = reviews_df['Comment'].apply(preprocess_text)"
      ],
      "metadata": {
        "id": "vfhbxls-DGdZ"
      },
      "execution_count": 165,
      "outputs": []
    },
    {
      "cell_type": "code",
      "source": [
        "# Misspelled words and words to avoid\n",
        "extended_stop_words = list(set(stopwords.words('english')) | {'ive', 'youll', 'alot', 'isnt', 'doesnt', 'wasnt',\n",
        "                                                              'makes', 'really', 'extremely', 'very', 'teaches',\n",
        "                                                              'often', 'would', 'little', 'took', 'students', 'might',\n",
        "                                                              'go', 'give', 'try', 'already', 'says', 'whole', 'think',\n",
        "                                                              'times', 'taken', 'expect', 'come', 'catch', 'life',\n",
        "                                                              'also', 'must', 'class', 'classes', 'much', 'making',\n",
        "                                                              'prof', 'professor', 'us', 'person', 'guy', 'wants',\n",
        "                                                              'style', 'last', 'every', 'say', 'grader', 'make',\n",
        "                                                              'always', 'im', 'anyone', 'term', 'looking', 'however',\n",
        "                                                              'student', 'definitely', 'pretty', 'call', 'though', 'takes',\n",
        "                                                              'one', 'many', 'material', 'things', 'thing', 'know', 'feel',\n",
        "                                                              'subject', 'teacher', 'office', 'way', 'rather', 'load',\n",
        "                                                              'overall', '10', '50', '20', 'comes', 'tends', 'need',\n",
        "                                                              'assigned', 'stands', 'else', 'bring', 'school', 'actual',\n",
        "                                                              'designed', 'since', 'even', 'shows', 'could', 'want',\n",
        "                                                              'course', 'truly', 'first', 'taking', 'hours', 'although'\n",
        "                                                              })"
      ],
      "metadata": {
        "id": "eVqzdFTHDTXG"
      },
      "execution_count": 166,
      "outputs": []
    },
    {
      "cell_type": "code",
      "source": [
        "# Relevant words to look for\n",
        "relevant_words = ['funny', 'bad', 'good', 'harsh', 'boring', 'easy', 'test', 'exam', 'hard',\n",
        "                  'fun', 'great', 'unclear', 'lectures', 'avoid', 'take', 'interesting', 'passionate',\n",
        "                  'kind', 'smart', 'experience', 'homework', 'project', 'projects', 'exams', 'mean',\n",
        "                  'curve', 'knowledgeable', 'loved', 'time', 'cares', 'paper', 'papers', 'writing',\n",
        "                  'lab', 'labs', 'impossible', 'wise', 'anecdotes', 'easier', 'harder', 'intimidating',\n",
        "                  'friendly', 'terrible', 'amazing', 'difficult', 'help', 'struggle', 'struggling',\n",
        "                  'best', 'worst', 'textbook', 'reputation', 'attention', 'willing', 'possible',\n",
        "                  'confusing', 'brilliant', 'amazing', 'succeed', 'discussions', 'discussion', 'loves',\n",
        "                  'serious', 'clear', 'organized', 'disorganized', 'great', 'recommend', 'different',\n",
        "                  'debate', 'debates', 'write', 'sweet', 'essay', 'essays', 'reading', 'read', 'book',\n",
        "                  'participate', 'helpful', 'awesome', 'nice', 'readings', 'final', 'quiz', 'quizzes',\n",
        "                  'respect', 'open', 'lecturer', 'excellent', 'scholar', 'approachable', 'confused',\n",
        "                  'confusing', 'tangents', 'tangent', 'ok', 'okay', 'accent', 'funniest', 'hardest',\n",
        "                  'cute', 'jokes', 'tough', 'enjoyable', 'idiot', 'waste', 'entertaining', 'elective',\n",
        "                  'weird', 'project', 'projects', 'presentation', 'ridiculous', 'fair', 'unfair', 'dry',\n",
        "                  'handwriting', 'stupid', 'horrible', 'decent']"
      ],
      "metadata": {
        "id": "oBjLB0TVDWjB"
      },
      "execution_count": 167,
      "outputs": []
    },
    {
      "cell_type": "code",
      "source": [
        "def get_top_keywords(professor, reviews_df, top_n=5, boost_factor=1.5):\n",
        "    # Get reviews for the selected professor\n",
        "    professor = professor.strip().lower()\n",
        "    prof_comments = reviews_df[reviews_df['professor'] == professor]['cleaned_comments']\n",
        "\n",
        "    if prof_comments.empty:\n",
        "        return \"No comments available for this professor.\"\n",
        "\n",
        "    # Create the tfidf with stop words list\n",
        "    tfidf = TfidfVectorizer(stop_words=extended_stop_words, max_df=0.5, min_df=2)\n",
        "    tfidf_matrix = tfidf.fit_transform(prof_comments)\n",
        "\n",
        "    # Boost scores for relevant words\n",
        "    feature_names = np.array(tfidf.get_feature_names_out())\n",
        "    for word in relevant_words:\n",
        "        if word in feature_names:\n",
        "            index = list(feature_names).index(word)\n",
        "            tfidf_matrix[:, index] *= boost_factor\n",
        "\n",
        "    # Sum tfidf scores for each term across all documents\n",
        "    sum_tfidf = tfidf_matrix.sum(axis=0)\n",
        "    sorted_indices = np.argsort(sum_tfidf).flatten()[::-1]\n",
        "\n",
        "    # Extract top n keywords with highest sum tfidf scores\n",
        "    top_keywords = feature_names[sorted_indices][:top_n]\n",
        "\n",
        "    return top_keywords.tolist()"
      ],
      "metadata": {
        "id": "XdtnbkH7DZtu"
      },
      "execution_count": 168,
      "outputs": []
    },
    {
      "cell_type": "code",
      "source": [
        "# Example\n",
        "professor_name = best_prof_for_course.iloc[0]\n",
        "keywords = get_top_keywords(professor_name, reviews_df, boost_factor=2)\n",
        "print(keywords)"
      ],
      "metadata": {
        "colab": {
          "base_uri": "https://localhost:8080/"
        },
        "id": "j3H9jLzVDc9g",
        "outputId": "70f096b1-006d-4883-b574-03ef9de96679"
      },
      "execution_count": 169,
      "outputs": [
        {
          "output_type": "stream",
          "name": "stdout",
          "text": [
            "[['meaning', 'death', 'fhs', 'expectations', 'like', 'topic', 'enjoyed', 'grades', 'teaching', 'work', 'decently', 'outside', 'thought', 'topics', 'accessible', 'get', 'annoying', 'essays', 'well', 'clear', 'wonderful', 'reading', 'readings', 'lot', 'writing', 'lectures', 'time', 'hard', 'logic', 'help', 'good', 'helpful', 'funny', 'made', 'discussions', 'philosophy', 'amazing', 'recommend', 'easy', 'paper', 'take', 'discussion', 'homework', 'papers', 'interesting', 'difficult', 'kind', 'great']]\n"
          ]
        }
      ]
    }
  ]
}